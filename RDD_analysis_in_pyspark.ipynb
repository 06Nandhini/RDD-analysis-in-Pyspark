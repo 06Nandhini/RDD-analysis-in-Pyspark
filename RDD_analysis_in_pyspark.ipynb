{
  "nbformat": 4,
  "nbformat_minor": 0,
  "metadata": {
    "colab": {
      "provenance": [],
      "authorship_tag": "ABX9TyNqAUyN/V1hZh3zMGDflZLp",
      "include_colab_link": true
    },
    "kernelspec": {
      "name": "python3",
      "display_name": "Python 3"
    },
    "language_info": {
      "name": "python"
    }
  },
  "cells": [
    {
      "cell_type": "markdown",
      "metadata": {
        "id": "view-in-github",
        "colab_type": "text"
      },
      "source": [
        "<a href=\"https://colab.research.google.com/github/06Nandhini/RDD-analysis-in-Pyspark/blob/main/RDD_analysis_in_pyspark.ipynb\" target=\"_parent\"><img src=\"https://colab.research.google.com/assets/colab-badge.svg\" alt=\"Open In Colab\"/></a>"
      ]
    },
    {
      "cell_type": "code",
      "execution_count": 5,
      "metadata": {
        "colab": {
          "base_uri": "https://localhost:8080/"
        },
        "id": "ONH9LExDSJ03",
        "outputId": "d5661e83-875a-4415-dc4d-6518e6121f44"
      },
      "outputs": [
        {
          "output_type": "execute_result",
          "data": {
            "text/plain": [
              "[['Sheffield United,Liverpool,1.0,1.0,D,2006-2007'],\n",
              " ['Arsenal,Aston Villa,1.0,1.0,D,2006-2007'],\n",
              " ['Everton,Watford,2.0,1.0,H,2006-2007'],\n",
              " ['Newcastle United,Wigan Athletic,2.0,1.0,H,2006-2007'],\n",
              " ['Portsmouth,Blackburn Rovers,3.0,0.0,H,2006-2007']]"
            ]
          },
          "metadata": {},
          "execution_count": 5
        }
      ],
      "source": [
        "from pyspark import SparkContext\n",
        "\n",
        "sc = SparkContext.getOrCreate()\n",
        "\n",
        "# Read CSV file\n",
        "data = sc.textFile(\"EPL.csv\")\n",
        "\n",
        "# Split by tab (since your sample shows tab-separated)\n",
        "header = data.first()  # save header\n",
        "matches_rdd = data.filter(lambda row: row != header).map(lambda row: row.split(\"\\t\"))\n",
        "\n",
        "# Check RDD\n",
        "matches_rdd.take(5)\n"
      ]
    },
    {
      "cell_type": "code",
      "source": [
        "header = data.first()  # 'home_team,away_team,...'\n",
        "matches_rdd = data.filter(lambda row: row != header) \\\n",
        "                  .map(lambda row: row.split(\",\")) \\\n",
        "                  .filter(lambda x: len(x) == 6)  # keep only valid rows\n"
      ],
      "metadata": {
        "id": "Pz2bF-iOXaHH"
      },
      "execution_count": 11,
      "outputs": []
    },
    {
      "cell_type": "code",
      "source": [
        "print(\"Total rows:\", matches_rdd.count())\n",
        "print(\"Sample rows:\", matches_rdd.take(5))\n"
      ],
      "metadata": {
        "colab": {
          "base_uri": "https://localhost:8080/"
        },
        "id": "lcnN9lU5YLdO",
        "outputId": "1d7b02fd-ea8f-4ba7-d6bd-455d5f73d860"
      },
      "execution_count": 12,
      "outputs": [
        {
          "output_type": "stream",
          "name": "stdout",
          "text": [
            "Total rows: 4560\n",
            "Sample rows: [['Sheffield United', 'Liverpool', '1.0', '1.0', 'D', '2006-2007'], ['Arsenal', 'Aston Villa', '1.0', '1.0', 'D', '2006-2007'], ['Everton', 'Watford', '2.0', '1.0', 'H', '2006-2007'], ['Newcastle United', 'Wigan Athletic', '2.0', '1.0', 'H', '2006-2007'], ['Portsmouth', 'Blackburn Rovers', '3.0', '0.0', 'H', '2006-2007']]\n"
          ]
        }
      ]
    },
    {
      "cell_type": "code",
      "source": [
        "matches_rdd = matches_rdd.map(lambda x: [\n",
        "    x[0],                 # home_team\n",
        "    x[1],                 # away_team\n",
        "    float(x[2]),          # home_goals\n",
        "    float(x[3]),          # away_goals\n",
        "    x[4],                 # result\n",
        "    x[5]                  # season\n",
        "])\n"
      ],
      "metadata": {
        "id": "Ed5QR2LlYN0P"
      },
      "execution_count": 13,
      "outputs": []
    },
    {
      "cell_type": "code",
      "source": [
        "season_goals = matches_rdd.map(lambda x: (x[5], x[2] + x[3])) \\\n",
        "                          .reduceByKey(lambda a, b: a + b)\n",
        "\n",
        "highest_season = season_goals.max(key=lambda x: x[1])\n",
        "lowest_season = season_goals.min(key=lambda x: x[1])\n",
        "\n",
        "print(\"Season with highest goals:\", highest_season)\n",
        "print(\"Season with lowest goals:\", lowest_season)\n"
      ],
      "metadata": {
        "colab": {
          "base_uri": "https://localhost:8080/"
        },
        "id": "M9g-oZ9ZYP6V",
        "outputId": "10121bd2-92b2-4c24-a59f-8fee5485bfe5"
      },
      "execution_count": 14,
      "outputs": [
        {
          "output_type": "stream",
          "name": "stdout",
          "text": [
            "Season with highest goals: ('2011-2012', 1066.0)\n",
            "Season with lowest goals: ('2006-2007', 931.0)\n"
          ]
        }
      ]
    },
    {
      "cell_type": "code",
      "source": [
        "from pyspark import SparkContext\n",
        "\n",
        "sc = SparkContext.getOrCreate()\n",
        "\n",
        "# 1️⃣ Read data into RDD\n",
        "data = sc.textFile(\"EPL.csv\")   # Correct file name\n",
        "header = data.first()\n",
        "\n",
        "matches_rdd = data.filter(lambda row: row != header) \\\n",
        "                  .map(lambda row: row.split(\",\")) \\\n",
        "                  .filter(lambda x: len(x) == 6) \\\n",
        "                  .map(lambda x: [\n",
        "                      x[0],          # home_team\n",
        "                      x[1],          # away_team\n",
        "                      float(x[2]),   # home_goals\n",
        "                      float(x[3]),   # away_goals\n",
        "                      x[4],          # result\n",
        "                      x[5]           # season\n",
        "                  ])\n",
        "\n",
        "print(\"Sample rows:\", matches_rdd.take(5))\n",
        "\n",
        "# 2️⃣ Season with highest and lowest total goals\n",
        "season_goals = matches_rdd.map(lambda x: (x[5], x[2] + x[3])) \\\n",
        "                          .reduceByKey(lambda a, b: a + b)\n",
        "\n",
        "highest_season = season_goals.max(key=lambda x: x[1])\n",
        "lowest_season = season_goals.min(key=lambda x: x[1])\n",
        "\n",
        "print(\"Season with highest goals:\", highest_season)\n",
        "print(\"Season with lowest goals:\", lowest_season)\n",
        "\n",
        "# 3️⃣ Team with highest average goals per season\n",
        "home_goals = matches_rdd.map(lambda x: (x[0], (x[2], 1)))\n",
        "away_goals = matches_rdd.map(lambda x: (x[1], (x[3], 1)))\n",
        "\n",
        "total_goals = home_goals.union(away_goals) \\\n",
        "                        .reduceByKey(lambda a, b: (a[0]+b[0], a[1]+b[1]))\n",
        "\n",
        "team_seasons = matches_rdd.flatMap(lambda x: [(x[0], x[5]), (x[1], x[5])]) \\\n",
        "                          .distinct() \\\n",
        "                          .map(lambda x: (x[0], 1)) \\\n",
        "                          .reduceByKey(lambda a, b: a + b)\n",
        "\n",
        "team_avg_goals = total_goals.join(team_seasons) \\\n",
        "                            .map(lambda x: (x[0], x[1][0][0] / x[1][1]))\n",
        "\n",
        "highest_avg_team = team_avg_goals.max(key=lambda x: x[1])\n",
        "print(\"Team with highest average goals per season:\", highest_avg_team)\n",
        "\n",
        "# 4️⃣ Probabilities for Manchester United\n",
        "team = \"Manchester United\"\n",
        "\n",
        "home_results = matches_rdd.filter(lambda x: x[0] == team) \\\n",
        "                          .map(lambda x: x[4])\n",
        "\n",
        "away_results = matches_rdd.filter(lambda x: x[1] == team) \\\n",
        "                          .map(lambda x: 'W' if x[4]=='L' else ('L' if x[4]=='W' else 'D'))\n",
        "\n",
        "all_results = home_results.union(away_results)\n",
        "total_matches = all_results.count()\n",
        "\n",
        "result_counts = all_results.map(lambda x: (x, 1)) \\\n",
        "                           .reduceByKey(lambda a, b: a+b) \\\n",
        "                           .collectAsMap()\n",
        "\n",
        "p_win = result_counts.get('W', 0) / total_matches\n",
        "p_lose = result_counts.get('L', 0) / total_matches\n",
        "p_draw = result_counts.get('D', 0) / total_matches\n",
        "\n",
        "print(f\"P(Manchester United Wins): {p_win:.2f}\")\n",
        "print(f\"P(Manchester United Loses): {p_lose:.2f}\")\n",
        "print(f\"P(Manchester United Draws): {p_draw:.2f}\")\n"
      ],
      "metadata": {
        "colab": {
          "base_uri": "https://localhost:8080/"
        },
        "id": "YrzqosclYli-",
        "outputId": "f4848eb6-2902-4fbb-bc3b-df99412b0580"
      },
      "execution_count": 15,
      "outputs": [
        {
          "output_type": "stream",
          "name": "stdout",
          "text": [
            "Sample rows: [['Sheffield United', 'Liverpool', 1.0, 1.0, 'D', '2006-2007'], ['Arsenal', 'Aston Villa', 1.0, 1.0, 'D', '2006-2007'], ['Everton', 'Watford', 2.0, 1.0, 'H', '2006-2007'], ['Newcastle United', 'Wigan Athletic', 2.0, 1.0, 'H', '2006-2007'], ['Portsmouth', 'Blackburn Rovers', 3.0, 0.0, 'H', '2006-2007']]\n",
            "Season with highest goals: ('2011-2012', 1066.0)\n",
            "Season with lowest goals: ('2006-2007', 931.0)\n",
            "Team with highest average goals per season: ('Manchester United', 72.25)\n",
            "P(Manchester United Wins): 0.00\n",
            "P(Manchester United Loses): 0.00\n",
            "P(Manchester United Draws): 0.57\n"
          ]
        }
      ]
    }
  ]
}